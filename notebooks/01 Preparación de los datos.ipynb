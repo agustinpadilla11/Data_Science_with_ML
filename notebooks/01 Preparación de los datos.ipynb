{
 "cells": [
  {
   "cell_type": "code",
   "execution_count": 2,
   "metadata": {},
   "outputs": [],
   "source": [
    "# Importamos las librerias\n",
    "import numpy as np\n",
    "import pandas as pd\n",
    "import matplotlib.pyplot as plt\n",
    "import seaborn as sb"
   ]
  },
  {
   "cell_type": "code",
   "execution_count": 5,
   "metadata": {},
   "outputs": [
    {
     "name": "stdout",
     "output_type": "stream",
     "text": [
      "Collecting seaborn\n",
      "  Downloading seaborn-0.11.2-py3-none-any.whl (292 kB)\n",
      "     -------------------------------------- 292.8/292.8 KB 1.2 MB/s eta 0:00:00\n",
      "Requirement already satisfied: pandas>=0.23 in c:\\users\\equipo\\appdata\\local\\programs\\python\\python39\\lib\\site-packages (from seaborn) (1.3.1)\n",
      "Requirement already satisfied: scipy>=1.0 in c:\\users\\equipo\\appdata\\local\\programs\\python\\python39\\lib\\site-packages (from seaborn) (1.7.0)\n",
      "Requirement already satisfied: numpy>=1.15 in c:\\users\\equipo\\appdata\\local\\programs\\python\\python39\\lib\\site-packages (from seaborn) (1.21.1)\n",
      "Requirement already satisfied: matplotlib>=2.2 in c:\\users\\equipo\\appdata\\local\\programs\\python\\python39\\lib\\site-packages (from seaborn) (3.5.1)\n",
      "Requirement already satisfied: python-dateutil>=2.7 in c:\\users\\equipo\\appdata\\local\\programs\\python\\python39\\lib\\site-packages (from matplotlib>=2.2->seaborn) (2.8.2)\n",
      "Requirement already satisfied: cycler>=0.10 in c:\\users\\equipo\\appdata\\local\\programs\\python\\python39\\lib\\site-packages (from matplotlib>=2.2->seaborn) (0.11.0)\n",
      "Requirement already satisfied: kiwisolver>=1.0.1 in c:\\users\\equipo\\appdata\\local\\programs\\python\\python39\\lib\\site-packages (from matplotlib>=2.2->seaborn) (1.3.2)\n",
      "Requirement already satisfied: packaging>=20.0 in c:\\users\\equipo\\appdata\\local\\programs\\python\\python39\\lib\\site-packages (from matplotlib>=2.2->seaborn) (21.3)\n",
      "Requirement already satisfied: pyparsing>=2.2.1 in c:\\users\\equipo\\appdata\\local\\programs\\python\\python39\\lib\\site-packages (from matplotlib>=2.2->seaborn) (3.0.7)\n",
      "Requirement already satisfied: pillow>=6.2.0 in c:\\users\\equipo\\appdata\\local\\programs\\python\\python39\\lib\\site-packages (from matplotlib>=2.2->seaborn) (9.0.1)\n",
      "Requirement already satisfied: fonttools>=4.22.0 in c:\\users\\equipo\\appdata\\local\\programs\\python\\python39\\lib\\site-packages (from matplotlib>=2.2->seaborn) (4.29.1)\n",
      "Requirement already satisfied: pytz>=2017.3 in c:\\users\\equipo\\appdata\\local\\programs\\python\\python39\\lib\\site-packages (from pandas>=0.23->seaborn) (2021.1)\n",
      "Requirement already satisfied: six>=1.5 in c:\\users\\equipo\\appdata\\local\\programs\\python\\python39\\lib\\site-packages (from python-dateutil>=2.7->matplotlib>=2.2->seaborn) (1.16.0)\n",
      "Installing collected packages: seaborn\n",
      "Successfully installed seaborn-0.11.2\n",
      "Note: you may need to restart the kernel to use updated packages.\n"
     ]
    },
    {
     "name": "stderr",
     "output_type": "stream",
     "text": [
      "WARNING: You are using pip version 22.0.4; however, version 22.1.2 is available.\n",
      "You should consider upgrading via the 'C:\\Users\\EQUIPO\\AppData\\Local\\Programs\\Python\\Python39\\python.exe -m pip install --upgrade pip' command.\n"
     ]
    }
   ],
   "source": [
    "pip install seaborn"
   ]
  },
  {
   "cell_type": "code",
   "execution_count": 3,
   "metadata": {},
   "outputs": [],
   "source": [
    "%matplotlib inline"
   ]
  },
  {
   "cell_type": "markdown",
   "metadata": {
    "slideshow": {
     "slide_type": "slide"
    }
   },
   "source": [
    "## Carguemos en un pandas dataframe nuestra base de datos"
   ]
  },
  {
   "cell_type": "code",
   "execution_count": 4,
   "metadata": {},
   "outputs": [],
   "source": [
    "movies = pd.read_csv('../datasets/peliculas.csv',encoding='utf-8')"
   ]
  },
  {
   "cell_type": "code",
   "execution_count": 5,
   "metadata": {},
   "outputs": [
    {
     "data": {
      "text/plain": [
       "pandas.core.frame.DataFrame"
      ]
     },
     "execution_count": 5,
     "metadata": {},
     "output_type": "execute_result"
    }
   ],
   "source": [
    "type(movies)"
   ]
  },
  {
   "cell_type": "code",
   "execution_count": 6,
   "metadata": {},
   "outputs": [
    {
     "data": {
      "text/html": [
       "<div>\n",
       "<style scoped>\n",
       "    .dataframe tbody tr th:only-of-type {\n",
       "        vertical-align: middle;\n",
       "    }\n",
       "\n",
       "    .dataframe tbody tr th {\n",
       "        vertical-align: top;\n",
       "    }\n",
       "\n",
       "    .dataframe thead th {\n",
       "        text-align: right;\n",
       "    }\n",
       "</style>\n",
       "<table border=\"1\" class=\"dataframe\">\n",
       "  <thead>\n",
       "    <tr style=\"text-align: right;\">\n",
       "      <th></th>\n",
       "      <th>movie_title</th>\n",
       "      <th>title_year</th>\n",
       "      <th>color</th>\n",
       "      <th>aspect_ratio</th>\n",
       "      <th>duration</th>\n",
       "      <th>language</th>\n",
       "      <th>country</th>\n",
       "      <th>duration.1</th>\n",
       "      <th>genres</th>\n",
       "      <th>content_rating</th>\n",
       "      <th>plot_keywords</th>\n",
       "      <th>director_name</th>\n",
       "      <th>actor_1_name</th>\n",
       "      <th>actor_2_name</th>\n",
       "      <th>actor_3_name</th>\n",
       "      <th>cast_total_facebook_likes</th>\n",
       "      <th>budget</th>\n",
       "      <th>imdb_score</th>\n",
       "      <th>gross</th>\n",
       "    </tr>\n",
       "  </thead>\n",
       "  <tbody>\n",
       "    <tr>\n",
       "      <th>0</th>\n",
       "      <td>Avatar</td>\n",
       "      <td>2009.0</td>\n",
       "      <td>Color</td>\n",
       "      <td>1.78</td>\n",
       "      <td>178.0</td>\n",
       "      <td>English</td>\n",
       "      <td>USA</td>\n",
       "      <td>178.0</td>\n",
       "      <td>Action|Adventure|Fantasy|Sci-Fi</td>\n",
       "      <td>PG-13</td>\n",
       "      <td>avatar|future|marine|native|paraplegic</td>\n",
       "      <td>James Cameron</td>\n",
       "      <td>CCH Pounder</td>\n",
       "      <td>Joel David Moore</td>\n",
       "      <td>Wes Studi</td>\n",
       "      <td>4834</td>\n",
       "      <td>237000000.0</td>\n",
       "      <td>7.9</td>\n",
       "      <td>760505847.0</td>\n",
       "    </tr>\n",
       "    <tr>\n",
       "      <th>1</th>\n",
       "      <td>Pirates of the Caribbean: At World's End</td>\n",
       "      <td>2007.0</td>\n",
       "      <td>Color</td>\n",
       "      <td>2.35</td>\n",
       "      <td>169.0</td>\n",
       "      <td>English</td>\n",
       "      <td>USA</td>\n",
       "      <td>169.0</td>\n",
       "      <td>Action|Adventure|Fantasy</td>\n",
       "      <td>PG-13</td>\n",
       "      <td>goddess|marriage ceremony|marriage proposal|pi...</td>\n",
       "      <td>Gore Verbinski</td>\n",
       "      <td>Johnny Depp</td>\n",
       "      <td>Orlando Bloom</td>\n",
       "      <td>Jack Davenport</td>\n",
       "      <td>48350</td>\n",
       "      <td>300000000.0</td>\n",
       "      <td>7.1</td>\n",
       "      <td>309404152.0</td>\n",
       "    </tr>\n",
       "    <tr>\n",
       "      <th>2</th>\n",
       "      <td>Spectre</td>\n",
       "      <td>2015.0</td>\n",
       "      <td>Color</td>\n",
       "      <td>2.35</td>\n",
       "      <td>148.0</td>\n",
       "      <td>English</td>\n",
       "      <td>UK</td>\n",
       "      <td>148.0</td>\n",
       "      <td>Action|Adventure|Thriller</td>\n",
       "      <td>PG-13</td>\n",
       "      <td>bomb|espionage|sequel|spy|terrorist</td>\n",
       "      <td>Sam Mendes</td>\n",
       "      <td>Christoph Waltz</td>\n",
       "      <td>Rory Kinnear</td>\n",
       "      <td>Stephanie Sigman</td>\n",
       "      <td>11700</td>\n",
       "      <td>245000000.0</td>\n",
       "      <td>6.8</td>\n",
       "      <td>200074175.0</td>\n",
       "    </tr>\n",
       "    <tr>\n",
       "      <th>3</th>\n",
       "      <td>The Dark Knight Rises</td>\n",
       "      <td>2012.0</td>\n",
       "      <td>Color</td>\n",
       "      <td>2.35</td>\n",
       "      <td>164.0</td>\n",
       "      <td>English</td>\n",
       "      <td>USA</td>\n",
       "      <td>164.0</td>\n",
       "      <td>Action|Thriller</td>\n",
       "      <td>PG-13</td>\n",
       "      <td>deception|imprisonment|lawlessness|police offi...</td>\n",
       "      <td>Christopher Nolan</td>\n",
       "      <td>Tom Hardy</td>\n",
       "      <td>Christian Bale</td>\n",
       "      <td>Joseph Gordon-Levitt</td>\n",
       "      <td>106759</td>\n",
       "      <td>250000000.0</td>\n",
       "      <td>8.5</td>\n",
       "      <td>448130642.0</td>\n",
       "    </tr>\n",
       "    <tr>\n",
       "      <th>4</th>\n",
       "      <td>Star Wars: Episode VII - The Force Awakens    ...</td>\n",
       "      <td>NaN</td>\n",
       "      <td>NaN</td>\n",
       "      <td>NaN</td>\n",
       "      <td>NaN</td>\n",
       "      <td>NaN</td>\n",
       "      <td>NaN</td>\n",
       "      <td>NaN</td>\n",
       "      <td>Documentary</td>\n",
       "      <td>NaN</td>\n",
       "      <td>NaN</td>\n",
       "      <td>Doug Walker</td>\n",
       "      <td>Doug Walker</td>\n",
       "      <td>Rob Walker</td>\n",
       "      <td>NaN</td>\n",
       "      <td>143</td>\n",
       "      <td>NaN</td>\n",
       "      <td>7.1</td>\n",
       "      <td>NaN</td>\n",
       "    </tr>\n",
       "  </tbody>\n",
       "</table>\n",
       "</div>"
      ],
      "text/plain": [
       "                                         movie_title  title_year  color  \\\n",
       "0                                            Avatar       2009.0  Color   \n",
       "1          Pirates of the Caribbean: At World's End       2007.0  Color   \n",
       "2                                           Spectre       2015.0  Color   \n",
       "3                             The Dark Knight Rises       2012.0  Color   \n",
       "4  Star Wars: Episode VII - The Force Awakens    ...         NaN    NaN   \n",
       "\n",
       "   aspect_ratio  duration language country  duration.1  \\\n",
       "0          1.78     178.0  English     USA       178.0   \n",
       "1          2.35     169.0  English     USA       169.0   \n",
       "2          2.35     148.0  English      UK       148.0   \n",
       "3          2.35     164.0  English     USA       164.0   \n",
       "4           NaN       NaN      NaN     NaN         NaN   \n",
       "\n",
       "                            genres content_rating  \\\n",
       "0  Action|Adventure|Fantasy|Sci-Fi          PG-13   \n",
       "1         Action|Adventure|Fantasy          PG-13   \n",
       "2        Action|Adventure|Thriller          PG-13   \n",
       "3                  Action|Thriller          PG-13   \n",
       "4                      Documentary            NaN   \n",
       "\n",
       "                                       plot_keywords      director_name  \\\n",
       "0             avatar|future|marine|native|paraplegic      James Cameron   \n",
       "1  goddess|marriage ceremony|marriage proposal|pi...     Gore Verbinski   \n",
       "2                bomb|espionage|sequel|spy|terrorist         Sam Mendes   \n",
       "3  deception|imprisonment|lawlessness|police offi...  Christopher Nolan   \n",
       "4                                                NaN        Doug Walker   \n",
       "\n",
       "      actor_1_name      actor_2_name          actor_3_name  \\\n",
       "0      CCH Pounder  Joel David Moore             Wes Studi   \n",
       "1      Johnny Depp     Orlando Bloom        Jack Davenport   \n",
       "2  Christoph Waltz      Rory Kinnear      Stephanie Sigman   \n",
       "3        Tom Hardy    Christian Bale  Joseph Gordon-Levitt   \n",
       "4      Doug Walker        Rob Walker                   NaN   \n",
       "\n",
       "   cast_total_facebook_likes       budget  imdb_score        gross  \n",
       "0                       4834  237000000.0         7.9  760505847.0  \n",
       "1                      48350  300000000.0         7.1  309404152.0  \n",
       "2                      11700  245000000.0         6.8  200074175.0  \n",
       "3                     106759  250000000.0         8.5  448130642.0  \n",
       "4                        143          NaN         7.1          NaN  "
      ]
     },
     "execution_count": 6,
     "metadata": {},
     "output_type": "execute_result"
    }
   ],
   "source": [
    "movies.head()"
   ]
  },
  {
   "cell_type": "code",
   "execution_count": 7,
   "metadata": {},
   "outputs": [
    {
     "data": {
      "text/plain": [
       "(5043, 19)"
      ]
     },
     "execution_count": 7,
     "metadata": {},
     "output_type": "execute_result"
    }
   ],
   "source": [
    "movies.shape"
   ]
  },
  {
   "cell_type": "code",
   "execution_count": 8,
   "metadata": {},
   "outputs": [
    {
     "data": {
      "text/plain": [
       "Index(['movie_title', 'title_year', 'color', 'aspect_ratio', 'duration',\n",
       "       'language', 'country', 'duration.1', 'genres', 'content_rating',\n",
       "       'plot_keywords', 'director_name', 'actor_1_name', 'actor_2_name',\n",
       "       'actor_3_name', 'cast_total_facebook_likes', 'budget', 'imdb_score',\n",
       "       'gross'],\n",
       "      dtype='object')"
      ]
     },
     "execution_count": 8,
     "metadata": {},
     "output_type": "execute_result"
    }
   ],
   "source": [
    "#visualizemos las columnas\n",
    "movies.columns"
   ]
  },
  {
   "cell_type": "code",
   "execution_count": 9,
   "metadata": {},
   "outputs": [
    {
     "data": {
      "text/plain": [
       "RangeIndex(start=0, stop=5043, step=1)"
      ]
     },
     "execution_count": 9,
     "metadata": {},
     "output_type": "execute_result"
    }
   ],
   "source": [
    "movies.index"
   ]
  },
  {
   "cell_type": "code",
   "execution_count": 10,
   "metadata": {},
   "outputs": [
    {
     "data": {
      "text/plain": [
       "0                                              Avatar \n",
       "1            Pirates of the Caribbean: At World's End \n",
       "2                                             Spectre \n",
       "3                               The Dark Knight Rises \n",
       "4    Star Wars: Episode VII - The Force Awakens    ...\n",
       "Name: movie_title, dtype: object"
      ]
     },
     "execution_count": 10,
     "metadata": {},
     "output_type": "execute_result"
    }
   ],
   "source": [
    "columna1 = movies['movie_title']\n",
    "columna1.head()"
   ]
  },
  {
   "cell_type": "code",
   "execution_count": 11,
   "metadata": {},
   "outputs": [
    {
     "data": {
      "text/plain": [
       "movie_title                                Batman v Superman: Dawn of Justice \n",
       "title_year                                                              2016.0\n",
       "color                                                                    Color\n",
       "aspect_ratio                                                              2.35\n",
       "duration                                                                 183.0\n",
       "language                                                               English\n",
       "country                                                                    USA\n",
       "duration.1                                                               183.0\n",
       "genres                                                 Action|Adventure|Sci-Fi\n",
       "content_rating                                                           PG-13\n",
       "plot_keywords                based on comic book|batman|sequel to a reboot|...\n",
       "director_name                                                      Zack Snyder\n",
       "actor_1_name                                                      Henry Cavill\n",
       "actor_2_name                                                      Lauren Cohan\n",
       "actor_3_name                                                    Alan D. Purwin\n",
       "cast_total_facebook_likes                                                24450\n",
       "budget                                                             250000000.0\n",
       "imdb_score                                                                 6.9\n",
       "gross                                                              330249062.0\n",
       "Name: 10, dtype: object"
      ]
     },
     "execution_count": 11,
     "metadata": {},
     "output_type": "execute_result"
    }
   ],
   "source": [
    "linea = movies.loc[10,:]\n",
    "linea"
   ]
  },
  {
   "cell_type": "code",
   "execution_count": 12,
   "metadata": {},
   "outputs": [
    {
     "data": {
      "text/plain": [
       "0                                              Avatar \n",
       "1            Pirates of the Caribbean: At World's End \n",
       "2                                             Spectre \n",
       "3                               The Dark Knight Rises \n",
       "4    Star Wars: Episode VII - The Force Awakens    ...\n",
       "Name: movie_title, dtype: object"
      ]
     },
     "execution_count": 12,
     "metadata": {},
     "output_type": "execute_result"
    }
   ],
   "source": [
    "movies.loc[:,'movie_title'].head()"
   ]
  },
  {
   "cell_type": "markdown",
   "metadata": {
    "slideshow": {
     "slide_type": "slide"
    }
   },
   "source": [
    "## Intentemos inspeccionar nuestros datos y entenderlos mejor "
   ]
  },
  {
   "cell_type": "code",
   "execution_count": 13,
   "metadata": {},
   "outputs": [
    {
     "name": "stdout",
     "output_type": "stream",
     "text": [
      "<class 'pandas.core.frame.DataFrame'>\n",
      "RangeIndex: 5043 entries, 0 to 5042\n",
      "Data columns (total 19 columns):\n",
      " #   Column                     Non-Null Count  Dtype  \n",
      "---  ------                     --------------  -----  \n",
      " 0   movie_title                5043 non-null   object \n",
      " 1   title_year                 4935 non-null   float64\n",
      " 2   color                      5024 non-null   object \n",
      " 3   aspect_ratio               4714 non-null   float64\n",
      " 4   duration                   5028 non-null   float64\n",
      " 5   language                   5031 non-null   object \n",
      " 6   country                    5038 non-null   object \n",
      " 7   duration.1                 5028 non-null   float64\n",
      " 8   genres                     5043 non-null   object \n",
      " 9   content_rating             4740 non-null   object \n",
      " 10  plot_keywords              4890 non-null   object \n",
      " 11  director_name              4939 non-null   object \n",
      " 12  actor_1_name               5036 non-null   object \n",
      " 13  actor_2_name               5030 non-null   object \n",
      " 14  actor_3_name               5020 non-null   object \n",
      " 15  cast_total_facebook_likes  5043 non-null   int64  \n",
      " 16  budget                     4551 non-null   float64\n",
      " 17  imdb_score                 5043 non-null   float64\n",
      " 18  gross                      4159 non-null   float64\n",
      "dtypes: float64(7), int64(1), object(11)\n",
      "memory usage: 748.7+ KB\n"
     ]
    }
   ],
   "source": [
    "movies.info()"
   ]
  },
  {
   "cell_type": "code",
   "execution_count": 14,
   "metadata": {},
   "outputs": [
    {
     "data": {
      "text/plain": [
       "movie_title                  False\n",
       "title_year                    True\n",
       "color                        False\n",
       "aspect_ratio                  True\n",
       "duration                      True\n",
       "language                     False\n",
       "country                      False\n",
       "duration.1                    True\n",
       "genres                       False\n",
       "content_rating               False\n",
       "plot_keywords                False\n",
       "director_name                False\n",
       "actor_1_name                 False\n",
       "actor_2_name                 False\n",
       "actor_3_name                 False\n",
       "cast_total_facebook_likes    False\n",
       "budget                        True\n",
       "imdb_score                    True\n",
       "gross                         True\n",
       "dtype: bool"
      ]
     },
     "execution_count": 14,
     "metadata": {},
     "output_type": "execute_result"
    }
   ],
   "source": [
    "# columnas númericas y columnas de texto\n",
    "movies.dtypes == float"
   ]
  },
  {
   "cell_type": "code",
   "execution_count": 15,
   "metadata": {},
   "outputs": [
    {
     "data": {
      "text/plain": [
       "movie_title                  False\n",
       "title_year                   False\n",
       "color                        False\n",
       "aspect_ratio                 False\n",
       "duration                     False\n",
       "language                     False\n",
       "country                      False\n",
       "duration.1                   False\n",
       "genres                       False\n",
       "content_rating               False\n",
       "plot_keywords                False\n",
       "director_name                False\n",
       "actor_1_name                 False\n",
       "actor_2_name                 False\n",
       "actor_3_name                 False\n",
       "cast_total_facebook_likes    False\n",
       "budget                       False\n",
       "imdb_score                   False\n",
       "gross                        False\n",
       "dtype: bool"
      ]
     },
     "execution_count": 15,
     "metadata": {},
     "output_type": "execute_result"
    }
   ],
   "source": [
    "movies.dtypes == int"
   ]
  },
  {
   "cell_type": "code",
   "execution_count": 16,
   "metadata": {},
   "outputs": [
    {
     "data": {
      "text/plain": [
       "movie_title                   True\n",
       "title_year                   False\n",
       "color                         True\n",
       "aspect_ratio                 False\n",
       "duration                     False\n",
       "language                      True\n",
       "country                       True\n",
       "duration.1                   False\n",
       "genres                        True\n",
       "content_rating                True\n",
       "plot_keywords                 True\n",
       "director_name                 True\n",
       "actor_1_name                  True\n",
       "actor_2_name                  True\n",
       "actor_3_name                  True\n",
       "cast_total_facebook_likes    False\n",
       "budget                       False\n",
       "imdb_score                   False\n",
       "gross                        False\n",
       "dtype: bool"
      ]
     },
     "execution_count": 16,
     "metadata": {},
     "output_type": "execute_result"
    }
   ],
   "source": [
    "movies.dtypes == object"
   ]
  },
  {
   "cell_type": "code",
   "execution_count": 17,
   "metadata": {},
   "outputs": [
    {
     "data": {
      "text/plain": [
       "movie_title                  False\n",
       "title_year                    True\n",
       "color                        False\n",
       "aspect_ratio                  True\n",
       "duration                      True\n",
       "language                     False\n",
       "country                      False\n",
       "duration.1                    True\n",
       "genres                       False\n",
       "content_rating               False\n",
       "plot_keywords                False\n",
       "director_name                False\n",
       "actor_1_name                 False\n",
       "actor_2_name                 False\n",
       "actor_3_name                 False\n",
       "cast_total_facebook_likes    False\n",
       "budget                        True\n",
       "imdb_score                    True\n",
       "gross                         True\n",
       "dtype: bool"
      ]
     },
     "execution_count": 17,
     "metadata": {},
     "output_type": "execute_result"
    }
   ],
   "source": [
    "num = (movies.dtypes == float) | (movies.dtypes == int)\n",
    "num"
   ]
  },
  {
   "cell_type": "code",
   "execution_count": 18,
   "metadata": {},
   "outputs": [
    {
     "data": {
      "text/plain": [
       "Index(['movie_title', 'title_year', 'color', 'aspect_ratio', 'duration',\n",
       "       'language', 'country', 'duration.1', 'genres', 'content_rating',\n",
       "       'plot_keywords', 'director_name', 'actor_1_name', 'actor_2_name',\n",
       "       'actor_3_name', 'cast_total_facebook_likes', 'budget', 'imdb_score',\n",
       "       'gross'],\n",
       "      dtype='object')"
      ]
     },
     "execution_count": 18,
     "metadata": {},
     "output_type": "execute_result"
    }
   ],
   "source": [
    "num.index"
   ]
  },
  {
   "cell_type": "code",
   "execution_count": 19,
   "metadata": {},
   "outputs": [
    {
     "name": "stdout",
     "output_type": "stream",
     "text": [
      "movie_title\n",
      "title_year\n",
      "color\n",
      "aspect_ratio\n",
      "duration\n",
      "language\n",
      "country\n",
      "duration.1\n",
      "genres\n",
      "content_rating\n",
      "plot_keywords\n",
      "director_name\n",
      "actor_1_name\n",
      "actor_2_name\n",
      "actor_3_name\n",
      "cast_total_facebook_likes\n",
      "budget\n",
      "imdb_score\n",
      "gross\n"
     ]
    }
   ],
   "source": [
    "for el in num.index:\n",
    "    print(el)"
   ]
  },
  {
   "cell_type": "code",
   "execution_count": 20,
   "metadata": {},
   "outputs": [],
   "source": [
    "num_cols = [c for c in num.index if num[c]]"
   ]
  },
  {
   "cell_type": "code",
   "execution_count": 21,
   "metadata": {
    "scrolled": true
   },
   "outputs": [
    {
     "data": {
      "text/plain": [
       "['title_year',\n",
       " 'aspect_ratio',\n",
       " 'duration',\n",
       " 'duration.1',\n",
       " 'budget',\n",
       " 'imdb_score',\n",
       " 'gross']"
      ]
     },
     "execution_count": 21,
     "metadata": {},
     "output_type": "execute_result"
    }
   ],
   "source": [
    "num_cols"
   ]
  },
  {
   "cell_type": "code",
   "execution_count": 22,
   "metadata": {
    "scrolled": true
   },
   "outputs": [
    {
     "data": {
      "text/plain": [
       "movie_title                   True\n",
       "title_year                   False\n",
       "color                         True\n",
       "aspect_ratio                 False\n",
       "duration                     False\n",
       "language                      True\n",
       "country                       True\n",
       "duration.1                   False\n",
       "genres                        True\n",
       "content_rating                True\n",
       "plot_keywords                 True\n",
       "director_name                 True\n",
       "actor_1_name                  True\n",
       "actor_2_name                  True\n",
       "actor_3_name                  True\n",
       "cast_total_facebook_likes    False\n",
       "budget                       False\n",
       "imdb_score                   False\n",
       "gross                        False\n",
       "dtype: bool"
      ]
     },
     "execution_count": 22,
     "metadata": {},
     "output_type": "execute_result"
    }
   ],
   "source": [
    "movies.dtypes == object"
   ]
  },
  {
   "cell_type": "code",
   "execution_count": 23,
   "metadata": {},
   "outputs": [],
   "source": [
    "obj = (movies.dtypes == object)\n",
    "obj_cols = [c for c in obj.index if obj[c]]"
   ]
  },
  {
   "cell_type": "code",
   "execution_count": 24,
   "metadata": {},
   "outputs": [
    {
     "data": {
      "text/plain": [
       "['movie_title',\n",
       " 'color',\n",
       " 'language',\n",
       " 'country',\n",
       " 'genres',\n",
       " 'content_rating',\n",
       " 'plot_keywords',\n",
       " 'director_name',\n",
       " 'actor_1_name',\n",
       " 'actor_2_name',\n",
       " 'actor_3_name']"
      ]
     },
     "execution_count": 24,
     "metadata": {},
     "output_type": "execute_result"
    }
   ],
   "source": [
    "obj_cols"
   ]
  },
  {
   "cell_type": "code",
   "execution_count": 25,
   "metadata": {},
   "outputs": [
    {
     "data": {
      "text/plain": [
       "['title_year',\n",
       " 'aspect_ratio',\n",
       " 'duration',\n",
       " 'duration.1',\n",
       " 'budget',\n",
       " 'imdb_score',\n",
       " 'gross']"
      ]
     },
     "execution_count": 25,
     "metadata": {},
     "output_type": "execute_result"
    }
   ],
   "source": [
    "num_cols"
   ]
  },
  {
   "cell_type": "code",
   "execution_count": 26,
   "metadata": {},
   "outputs": [],
   "source": [
    "movies_num = movies[num_cols]"
   ]
  },
  {
   "cell_type": "code",
   "execution_count": 27,
   "metadata": {},
   "outputs": [
    {
     "data": {
      "text/html": [
       "<div>\n",
       "<style scoped>\n",
       "    .dataframe tbody tr th:only-of-type {\n",
       "        vertical-align: middle;\n",
       "    }\n",
       "\n",
       "    .dataframe tbody tr th {\n",
       "        vertical-align: top;\n",
       "    }\n",
       "\n",
       "    .dataframe thead th {\n",
       "        text-align: right;\n",
       "    }\n",
       "</style>\n",
       "<table border=\"1\" class=\"dataframe\">\n",
       "  <thead>\n",
       "    <tr style=\"text-align: right;\">\n",
       "      <th></th>\n",
       "      <th>title_year</th>\n",
       "      <th>aspect_ratio</th>\n",
       "      <th>duration</th>\n",
       "      <th>duration.1</th>\n",
       "      <th>budget</th>\n",
       "      <th>imdb_score</th>\n",
       "      <th>gross</th>\n",
       "    </tr>\n",
       "  </thead>\n",
       "  <tbody>\n",
       "    <tr>\n",
       "      <th>count</th>\n",
       "      <td>4935.000000</td>\n",
       "      <td>4714.000000</td>\n",
       "      <td>5028.000000</td>\n",
       "      <td>5028.000000</td>\n",
       "      <td>4.551000e+03</td>\n",
       "      <td>5043.000000</td>\n",
       "      <td>4.159000e+03</td>\n",
       "    </tr>\n",
       "    <tr>\n",
       "      <th>mean</th>\n",
       "      <td>2002.470517</td>\n",
       "      <td>2.220403</td>\n",
       "      <td>107.201074</td>\n",
       "      <td>107.201074</td>\n",
       "      <td>3.975262e+07</td>\n",
       "      <td>6.442138</td>\n",
       "      <td>4.846841e+07</td>\n",
       "    </tr>\n",
       "    <tr>\n",
       "      <th>std</th>\n",
       "      <td>12.474599</td>\n",
       "      <td>1.385113</td>\n",
       "      <td>25.197441</td>\n",
       "      <td>25.197441</td>\n",
       "      <td>2.061149e+08</td>\n",
       "      <td>1.125116</td>\n",
       "      <td>6.845299e+07</td>\n",
       "    </tr>\n",
       "    <tr>\n",
       "      <th>min</th>\n",
       "      <td>1916.000000</td>\n",
       "      <td>1.180000</td>\n",
       "      <td>7.000000</td>\n",
       "      <td>7.000000</td>\n",
       "      <td>2.180000e+02</td>\n",
       "      <td>1.600000</td>\n",
       "      <td>1.620000e+02</td>\n",
       "    </tr>\n",
       "    <tr>\n",
       "      <th>25%</th>\n",
       "      <td>1999.000000</td>\n",
       "      <td>1.850000</td>\n",
       "      <td>93.000000</td>\n",
       "      <td>93.000000</td>\n",
       "      <td>6.000000e+06</td>\n",
       "      <td>5.800000</td>\n",
       "      <td>5.340988e+06</td>\n",
       "    </tr>\n",
       "    <tr>\n",
       "      <th>50%</th>\n",
       "      <td>2005.000000</td>\n",
       "      <td>2.350000</td>\n",
       "      <td>103.000000</td>\n",
       "      <td>103.000000</td>\n",
       "      <td>2.000000e+07</td>\n",
       "      <td>6.600000</td>\n",
       "      <td>2.551750e+07</td>\n",
       "    </tr>\n",
       "    <tr>\n",
       "      <th>75%</th>\n",
       "      <td>2011.000000</td>\n",
       "      <td>2.350000</td>\n",
       "      <td>118.000000</td>\n",
       "      <td>118.000000</td>\n",
       "      <td>4.500000e+07</td>\n",
       "      <td>7.200000</td>\n",
       "      <td>6.230944e+07</td>\n",
       "    </tr>\n",
       "    <tr>\n",
       "      <th>max</th>\n",
       "      <td>2016.000000</td>\n",
       "      <td>16.000000</td>\n",
       "      <td>511.000000</td>\n",
       "      <td>511.000000</td>\n",
       "      <td>1.221550e+10</td>\n",
       "      <td>9.500000</td>\n",
       "      <td>7.605058e+08</td>\n",
       "    </tr>\n",
       "  </tbody>\n",
       "</table>\n",
       "</div>"
      ],
      "text/plain": [
       "        title_year  aspect_ratio     duration   duration.1        budget  \\\n",
       "count  4935.000000   4714.000000  5028.000000  5028.000000  4.551000e+03   \n",
       "mean   2002.470517      2.220403   107.201074   107.201074  3.975262e+07   \n",
       "std      12.474599      1.385113    25.197441    25.197441  2.061149e+08   \n",
       "min    1916.000000      1.180000     7.000000     7.000000  2.180000e+02   \n",
       "25%    1999.000000      1.850000    93.000000    93.000000  6.000000e+06   \n",
       "50%    2005.000000      2.350000   103.000000   103.000000  2.000000e+07   \n",
       "75%    2011.000000      2.350000   118.000000   118.000000  4.500000e+07   \n",
       "max    2016.000000     16.000000   511.000000   511.000000  1.221550e+10   \n",
       "\n",
       "        imdb_score         gross  \n",
       "count  5043.000000  4.159000e+03  \n",
       "mean      6.442138  4.846841e+07  \n",
       "std       1.125116  6.845299e+07  \n",
       "min       1.600000  1.620000e+02  \n",
       "25%       5.800000  5.340988e+06  \n",
       "50%       6.600000  2.551750e+07  \n",
       "75%       7.200000  6.230944e+07  \n",
       "max       9.500000  7.605058e+08  "
      ]
     },
     "execution_count": 27,
     "metadata": {},
     "output_type": "execute_result"
    }
   ],
   "source": [
    "# Estadísticas de las columnas númericas\n",
    "movies_num.describe()"
   ]
  },
  {
   "cell_type": "code",
   "execution_count": 27,
   "metadata": {},
   "outputs": [],
   "source": [
    "# Estadísticas de las columnas de texto"
   ]
  },
  {
   "cell_type": "markdown",
   "metadata": {},
   "source": [
    "Para hacer que nuestro primer modelo sea más simple, trabajaremos solo con las columnas númericas."
   ]
  },
  {
   "cell_type": "code",
   "execution_count": 28,
   "metadata": {},
   "outputs": [
    {
     "data": {
      "text/plain": [
       "<AxesSubplot:>"
      ]
     },
     "execution_count": 28,
     "metadata": {},
     "output_type": "execute_result"
    },
    {
     "data": {
      "image/png": "[encoded data removed]",
      "text/plain": [
       "<Figure size 432x288 with 1 Axes>"
      ]
     },
     "metadata": {
      "needs_background": "light"
     },
     "output_type": "display_data"
    }
   ],
   "source": [
    "movies_num['duration'].hist()"
   ]
  },
  {
   "cell_type": "code",
   "execution_count": 29,
   "metadata": {},
   "outputs": [
    {
     "data": {
      "text/plain": [
       "<AxesSubplot:>"
      ]
     },
     "execution_count": 29,
     "metadata": {},
     "output_type": "execute_result"
    },
    {
     "data": {
      "image/png": "[encoded data removed]",
      "text/plain": [
       "<Figure size 432x288 with 1 Axes>"
      ]
     },
     "metadata": {
      "needs_background": "light"
     },
     "output_type": "display_data"
    }
   ],
   "source": [
    "movies_num['imdb_score'].hist()"
   ]
  },
  {
   "cell_type": "code",
   "execution_count": 30,
   "metadata": {},
   "outputs": [
    {
     "data": {
      "text/plain": [
       "<AxesSubplot:>"
      ]
     },
     "execution_count": 30,
     "metadata": {},
     "output_type": "execute_result"
    },
    {
     "data": {
      "image/png": "[encoded data removed]",
      "text/plain": [
       "<Figure size 432x288 with 1 Axes>"
      ]
     },
     "metadata": {
      "needs_background": "light"
     },
     "output_type": "display_data"
    }
   ],
   "source": [
    "movies_num['budget'].hist()"
   ]
  },
  {
   "cell_type": "code",
   "execution_count": 31,
   "metadata": {},
   "outputs": [],
   "source": [
    "mask = (movies_num['budget'] > 1e9)"
   ]
  },
  {
   "cell_type": "code",
   "execution_count": 32,
   "metadata": {},
   "outputs": [
    {
     "data": {
      "text/html": [
       "<div>\n",
       "<style scoped>\n",
       "    .dataframe tbody tr th:only-of-type {\n",
       "        vertical-align: middle;\n",
       "    }\n",
       "\n",
       "    .dataframe tbody tr th {\n",
       "        vertical-align: top;\n",
       "    }\n",
       "\n",
       "    .dataframe thead th {\n",
       "        text-align: right;\n",
       "    }\n",
       "</style>\n",
       "<table border=\"1\" class=\"dataframe\">\n",
       "  <thead>\n",
       "    <tr style=\"text-align: right;\">\n",
       "      <th></th>\n",
       "      <th>movie_title</th>\n",
       "      <th>title_year</th>\n",
       "      <th>color</th>\n",
       "      <th>aspect_ratio</th>\n",
       "      <th>duration</th>\n",
       "      <th>language</th>\n",
       "      <th>country</th>\n",
       "      <th>duration.1</th>\n",
       "      <th>genres</th>\n",
       "      <th>content_rating</th>\n",
       "      <th>plot_keywords</th>\n",
       "      <th>director_name</th>\n",
       "      <th>actor_1_name</th>\n",
       "      <th>actor_2_name</th>\n",
       "      <th>actor_3_name</th>\n",
       "      <th>cast_total_facebook_likes</th>\n",
       "      <th>budget</th>\n",
       "      <th>imdb_score</th>\n",
       "      <th>gross</th>\n",
       "    </tr>\n",
       "  </thead>\n",
       "  <tbody>\n",
       "    <tr>\n",
       "      <th>2323</th>\n",
       "      <td>Princess Mononoke</td>\n",
       "      <td>1997.0</td>\n",
       "      <td>Color</td>\n",
       "      <td>1.85</td>\n",
       "      <td>134.0</td>\n",
       "      <td>Japanese</td>\n",
       "      <td>Japan</td>\n",
       "      <td>134.0</td>\n",
       "      <td>Adventure|Animation|Fantasy</td>\n",
       "      <td>PG-13</td>\n",
       "      <td>anime|cult film|forest|princess|studio ghibli</td>\n",
       "      <td>Hayao Miyazaki</td>\n",
       "      <td>Minnie Driver</td>\n",
       "      <td>Jada Pinkett Smith</td>\n",
       "      <td>Billy Crudup</td>\n",
       "      <td>2710</td>\n",
       "      <td>2.400000e+09</td>\n",
       "      <td>8.4</td>\n",
       "      <td>2298191.0</td>\n",
       "    </tr>\n",
       "    <tr>\n",
       "      <th>2334</th>\n",
       "      <td>Steamboy</td>\n",
       "      <td>2004.0</td>\n",
       "      <td>Color</td>\n",
       "      <td>1.85</td>\n",
       "      <td>103.0</td>\n",
       "      <td>Japanese</td>\n",
       "      <td>Japan</td>\n",
       "      <td>103.0</td>\n",
       "      <td>Action|Adventure|Animation|Family|Sci-Fi|Thriller</td>\n",
       "      <td>PG-13</td>\n",
       "      <td>19th century|ball|boy|inventor|steam</td>\n",
       "      <td>Katsuhiro Ôtomo</td>\n",
       "      <td>William Hootkins</td>\n",
       "      <td>Robin Atkin Downes</td>\n",
       "      <td>Rosalind Ayres</td>\n",
       "      <td>991</td>\n",
       "      <td>2.127520e+09</td>\n",
       "      <td>6.9</td>\n",
       "      <td>410388.0</td>\n",
       "    </tr>\n",
       "    <tr>\n",
       "      <th>2988</th>\n",
       "      <td>The Host</td>\n",
       "      <td>2006.0</td>\n",
       "      <td>Color</td>\n",
       "      <td>1.85</td>\n",
       "      <td>110.0</td>\n",
       "      <td>Korean</td>\n",
       "      <td>South Korea</td>\n",
       "      <td>110.0</td>\n",
       "      <td>Comedy|Drama|Horror|Sci-Fi</td>\n",
       "      <td>R</td>\n",
       "      <td>daughter|han river|monster|river|seoul</td>\n",
       "      <td>Joon-ho Bong</td>\n",
       "      <td>Doona Bae</td>\n",
       "      <td>Kang-ho Song</td>\n",
       "      <td>Ah-sung Ko</td>\n",
       "      <td>1173</td>\n",
       "      <td>1.221550e+10</td>\n",
       "      <td>7.0</td>\n",
       "      <td>2201412.0</td>\n",
       "    </tr>\n",
       "    <tr>\n",
       "      <th>3005</th>\n",
       "      <td>Fateless</td>\n",
       "      <td>2005.0</td>\n",
       "      <td>Color</td>\n",
       "      <td>2.35</td>\n",
       "      <td>134.0</td>\n",
       "      <td>Hungarian</td>\n",
       "      <td>Hungary</td>\n",
       "      <td>134.0</td>\n",
       "      <td>Drama|Romance|War</td>\n",
       "      <td>R</td>\n",
       "      <td>bus|death|gay slur|hatred|jewish</td>\n",
       "      <td>Lajos Koltai</td>\n",
       "      <td>Marcell Nagy</td>\n",
       "      <td>Péter Fancsikai</td>\n",
       "      <td>Bálint Péntek</td>\n",
       "      <td>11</td>\n",
       "      <td>2.500000e+09</td>\n",
       "      <td>7.1</td>\n",
       "      <td>195888.0</td>\n",
       "    </tr>\n",
       "    <tr>\n",
       "      <th>3423</th>\n",
       "      <td>Akira</td>\n",
       "      <td>1988.0</td>\n",
       "      <td>Color</td>\n",
       "      <td>1.85</td>\n",
       "      <td>124.0</td>\n",
       "      <td>Japanese</td>\n",
       "      <td>Japan</td>\n",
       "      <td>124.0</td>\n",
       "      <td>Action|Animation|Sci-Fi</td>\n",
       "      <td>R</td>\n",
       "      <td>based on manga|biker gang|gifted child|post th...</td>\n",
       "      <td>Katsuhiro Ôtomo</td>\n",
       "      <td>Mitsuo Iwata</td>\n",
       "      <td>Takeshi Kusao</td>\n",
       "      <td>Tesshô Genda</td>\n",
       "      <td>28</td>\n",
       "      <td>1.100000e+09</td>\n",
       "      <td>8.1</td>\n",
       "      <td>439162.0</td>\n",
       "    </tr>\n",
       "    <tr>\n",
       "      <th>3859</th>\n",
       "      <td>Lady Vengeance</td>\n",
       "      <td>2005.0</td>\n",
       "      <td>Color</td>\n",
       "      <td>2.35</td>\n",
       "      <td>112.0</td>\n",
       "      <td>Korean</td>\n",
       "      <td>South Korea</td>\n",
       "      <td>112.0</td>\n",
       "      <td>Crime|Drama</td>\n",
       "      <td>R</td>\n",
       "      <td>cake|christian|lesbian sex|oral sex|pregnant s...</td>\n",
       "      <td>Chan-wook Park</td>\n",
       "      <td>Min-sik Choi</td>\n",
       "      <td>Yeong-ae Lee</td>\n",
       "      <td>Hye-jeong Kang</td>\n",
       "      <td>907</td>\n",
       "      <td>4.200000e+09</td>\n",
       "      <td>7.7</td>\n",
       "      <td>211667.0</td>\n",
       "    </tr>\n",
       "  </tbody>\n",
       "</table>\n",
       "</div>"
      ],
      "text/plain": [
       "             movie_title  title_year  color  aspect_ratio  duration  \\\n",
       "2323  Princess Mononoke       1997.0  Color          1.85     134.0   \n",
       "2334           Steamboy       2004.0  Color          1.85     103.0   \n",
       "2988           The Host       2006.0  Color          1.85     110.0   \n",
       "3005           Fateless       2005.0  Color          2.35     134.0   \n",
       "3423              Akira       1988.0  Color          1.85     124.0   \n",
       "3859     Lady Vengeance       2005.0  Color          2.35     112.0   \n",
       "\n",
       "       language      country  duration.1  \\\n",
       "2323   Japanese        Japan       134.0   \n",
       "2334   Japanese        Japan       103.0   \n",
       "2988     Korean  South Korea       110.0   \n",
       "3005  Hungarian      Hungary       134.0   \n",
       "3423   Japanese        Japan       124.0   \n",
       "3859     Korean  South Korea       112.0   \n",
       "\n",
       "                                                 genres content_rating  \\\n",
       "2323                        Adventure|Animation|Fantasy          PG-13   \n",
       "2334  Action|Adventure|Animation|Family|Sci-Fi|Thriller          PG-13   \n",
       "2988                         Comedy|Drama|Horror|Sci-Fi              R   \n",
       "3005                                  Drama|Romance|War              R   \n",
       "3423                            Action|Animation|Sci-Fi              R   \n",
       "3859                                        Crime|Drama              R   \n",
       "\n",
       "                                          plot_keywords    director_name  \\\n",
       "2323      anime|cult film|forest|princess|studio ghibli   Hayao Miyazaki   \n",
       "2334               19th century|ball|boy|inventor|steam  Katsuhiro Ôtomo   \n",
       "2988             daughter|han river|monster|river|seoul     Joon-ho Bong   \n",
       "3005                   bus|death|gay slur|hatred|jewish     Lajos Koltai   \n",
       "3423  based on manga|biker gang|gifted child|post th...  Katsuhiro Ôtomo   \n",
       "3859  cake|christian|lesbian sex|oral sex|pregnant s...   Chan-wook Park   \n",
       "\n",
       "          actor_1_name        actor_2_name    actor_3_name  \\\n",
       "2323     Minnie Driver  Jada Pinkett Smith    Billy Crudup   \n",
       "2334  William Hootkins  Robin Atkin Downes  Rosalind Ayres   \n",
       "2988         Doona Bae        Kang-ho Song      Ah-sung Ko   \n",
       "3005      Marcell Nagy     Péter Fancsikai   Bálint Péntek   \n",
       "3423      Mitsuo Iwata       Takeshi Kusao    Tesshô Genda   \n",
       "3859      Min-sik Choi        Yeong-ae Lee  Hye-jeong Kang   \n",
       "\n",
       "      cast_total_facebook_likes        budget  imdb_score      gross  \n",
       "2323                       2710  2.400000e+09         8.4  2298191.0  \n",
       "2334                        991  2.127520e+09         6.9   410388.0  \n",
       "2988                       1173  1.221550e+10         7.0  2201412.0  \n",
       "3005                         11  2.500000e+09         7.1   195888.0  \n",
       "3423                         28  1.100000e+09         8.1   439162.0  \n",
       "3859                        907  4.200000e+09         7.7   211667.0  "
      ]
     },
     "execution_count": 32,
     "metadata": {},
     "output_type": "execute_result"
    }
   ],
   "source": [
    "movies[mask]"
   ]
  },
  {
   "cell_type": "markdown",
   "metadata": {},
   "source": [
    " Tenemos un problema de limpieza de los datos. La BDD fue creada sin diferenciar:\n",
    "- La moneda en la que se ingresaba el presupuesto y el ingreso. \n",
    "- La zona (país/mundial) en la que se registro el ingreso"
   ]
  },
  {
   "cell_type": "code",
   "execution_count": 33,
   "metadata": {},
   "outputs": [],
   "source": [
    "# Importar BBDD thenumbers.com## Ahora manejaremos los datos faltantes (nulos o NaN). "
   ]
  },
  {
   "cell_type": "code",
   "execution_count": 33,
   "metadata": {},
   "outputs": [
    {
     "data": {
      "text/html": [
       "<div>\n",
       "<style scoped>\n",
       "    .dataframe tbody tr th:only-of-type {\n",
       "        vertical-align: middle;\n",
       "    }\n",
       "\n",
       "    .dataframe tbody tr th {\n",
       "        vertical-align: top;\n",
       "    }\n",
       "\n",
       "    .dataframe thead th {\n",
       "        text-align: right;\n",
       "    }\n",
       "</style>\n",
       "<table border=\"1\" class=\"dataframe\">\n",
       "  <thead>\n",
       "    <tr style=\"text-align: right;\">\n",
       "      <th></th>\n",
       "      <th>Unnamed: 0</th>\n",
       "      <th>movie_name</th>\n",
       "      <th>domestic_gross</th>\n",
       "      <th>movie_link</th>\n",
       "      <th>production_budget</th>\n",
       "      <th>release_date</th>\n",
       "      <th>worldwide_gross</th>\n",
       "      <th>movie_title</th>\n",
       "    </tr>\n",
       "  </thead>\n",
       "  <tbody>\n",
       "    <tr>\n",
       "      <th>0</th>\n",
       "      <td>0</td>\n",
       "      <td>Avatar</td>\n",
       "      <td>760507625</td>\n",
       "      <td>http://www.the-numbers.com/movie/Avatar#tab=su...</td>\n",
       "      <td>425000000</td>\n",
       "      <td>12/18/2009</td>\n",
       "      <td>2783918982</td>\n",
       "      <td>Avatar</td>\n",
       "    </tr>\n",
       "    <tr>\n",
       "      <th>1</th>\n",
       "      <td>1</td>\n",
       "      <td>Star Wars Ep. VII: The Force Awakens</td>\n",
       "      <td>936662225</td>\n",
       "      <td>http://www.the-numbers.com/movie/Star-Wars-Ep-...</td>\n",
       "      <td>306000000</td>\n",
       "      <td>12/18/2015</td>\n",
       "      <td>2058662225</td>\n",
       "      <td>Star Wars: Episode VII - The Force Awakens    ...</td>\n",
       "    </tr>\n",
       "    <tr>\n",
       "      <th>2</th>\n",
       "      <td>2</td>\n",
       "      <td>Pirates of the Caribbean: At World's End</td>\n",
       "      <td>309420425</td>\n",
       "      <td>http://www.the-numbers.com/movie/Pirates-of-th...</td>\n",
       "      <td>300000000</td>\n",
       "      <td>5/24/2007</td>\n",
       "      <td>963420425</td>\n",
       "      <td>Pirates of the Caribbean: At World's End</td>\n",
       "    </tr>\n",
       "    <tr>\n",
       "      <th>3</th>\n",
       "      <td>3</td>\n",
       "      <td>Spectre</td>\n",
       "      <td>200074175</td>\n",
       "      <td>http://www.the-numbers.com/movie/Spectre#tab=s...</td>\n",
       "      <td>300000000</td>\n",
       "      <td>11/6/2015</td>\n",
       "      <td>879620923</td>\n",
       "      <td>Spectre</td>\n",
       "    </tr>\n",
       "    <tr>\n",
       "      <th>4</th>\n",
       "      <td>4</td>\n",
       "      <td>The Dark Knight Rises</td>\n",
       "      <td>448139099</td>\n",
       "      <td>http://www.the-numbers.com/movie/Dark-Knight-R...</td>\n",
       "      <td>275000000</td>\n",
       "      <td>7/20/2012</td>\n",
       "      <td>1084439099</td>\n",
       "      <td>The Dark Knight Rises</td>\n",
       "    </tr>\n",
       "    <tr>\n",
       "      <th>...</th>\n",
       "      <td>...</td>\n",
       "      <td>...</td>\n",
       "      <td>...</td>\n",
       "      <td>...</td>\n",
       "      <td>...</td>\n",
       "      <td>...</td>\n",
       "      <td>...</td>\n",
       "      <td>...</td>\n",
       "    </tr>\n",
       "    <tr>\n",
       "      <th>4336</th>\n",
       "      <td>5157</td>\n",
       "      <td>The Mongol King</td>\n",
       "      <td>900</td>\n",
       "      <td>http://www.the-numbers.com/movie/Mongol-King-T...</td>\n",
       "      <td>7000</td>\n",
       "      <td>1/1/2004</td>\n",
       "      <td>900</td>\n",
       "      <td>The Mongol King</td>\n",
       "    </tr>\n",
       "    <tr>\n",
       "      <th>4337</th>\n",
       "      <td>5160</td>\n",
       "      <td>Signed Sealed Delivered</td>\n",
       "      <td>0</td>\n",
       "      <td>http://www.the-numbers.com/movie/Signed-Sealed...</td>\n",
       "      <td>5000</td>\n",
       "      <td>9/29/2015</td>\n",
       "      <td>0</td>\n",
       "      <td>Signed Sealed Delivered</td>\n",
       "    </tr>\n",
       "    <tr>\n",
       "      <th>4338</th>\n",
       "      <td>5161</td>\n",
       "      <td>Shanghai Calling</td>\n",
       "      <td>10443</td>\n",
       "      <td>http://www.the-numbers.com/movie/Shanghai-Call...</td>\n",
       "      <td>3967</td>\n",
       "      <td>2/15/2013</td>\n",
       "      <td>10443</td>\n",
       "      <td>Shanghai Calling</td>\n",
       "    </tr>\n",
       "    <tr>\n",
       "      <th>4339</th>\n",
       "      <td>5162</td>\n",
       "      <td>A Plague So Pleasant</td>\n",
       "      <td>0</td>\n",
       "      <td>http://www.the-numbers.com/movie/Plague-So-Ple...</td>\n",
       "      <td>1400</td>\n",
       "      <td>9/29/2015</td>\n",
       "      <td>0</td>\n",
       "      <td>A Plague So Pleasant</td>\n",
       "    </tr>\n",
       "    <tr>\n",
       "      <th>4340</th>\n",
       "      <td>5163</td>\n",
       "      <td>My Date With Drew</td>\n",
       "      <td>181041</td>\n",
       "      <td>http://www.the-numbers.com/movie/My-Date-With-...</td>\n",
       "      <td>1100</td>\n",
       "      <td>8/5/2005</td>\n",
       "      <td>181041</td>\n",
       "      <td>My Date with Drew</td>\n",
       "    </tr>\n",
       "  </tbody>\n",
       "</table>\n",
       "<p>4341 rows × 8 columns</p>\n",
       "</div>"
      ],
      "text/plain": [
       "      Unnamed: 0                                movie_name  domestic_gross  \\\n",
       "0              0                                    Avatar       760507625   \n",
       "1              1      Star Wars Ep. VII: The Force Awakens       936662225   \n",
       "2              2  Pirates of the Caribbean: At World's End       309420425   \n",
       "3              3                                   Spectre       200074175   \n",
       "4              4                     The Dark Knight Rises       448139099   \n",
       "...          ...                                       ...             ...   \n",
       "4336        5157                           The Mongol King             900   \n",
       "4337        5160                   Signed Sealed Delivered               0   \n",
       "4338        5161                          Shanghai Calling           10443   \n",
       "4339        5162                      A Plague So Pleasant               0   \n",
       "4340        5163                         My Date With Drew          181041   \n",
       "\n",
       "                                             movie_link  production_budget  \\\n",
       "0     http://www.the-numbers.com/movie/Avatar#tab=su...          425000000   \n",
       "1     http://www.the-numbers.com/movie/Star-Wars-Ep-...          306000000   \n",
       "2     http://www.the-numbers.com/movie/Pirates-of-th...          300000000   \n",
       "3     http://www.the-numbers.com/movie/Spectre#tab=s...          300000000   \n",
       "4     http://www.the-numbers.com/movie/Dark-Knight-R...          275000000   \n",
       "...                                                 ...                ...   \n",
       "4336  http://www.the-numbers.com/movie/Mongol-King-T...               7000   \n",
       "4337  http://www.the-numbers.com/movie/Signed-Sealed...               5000   \n",
       "4338  http://www.the-numbers.com/movie/Shanghai-Call...               3967   \n",
       "4339  http://www.the-numbers.com/movie/Plague-So-Ple...               1400   \n",
       "4340  http://www.the-numbers.com/movie/My-Date-With-...               1100   \n",
       "\n",
       "     release_date  worldwide_gross  \\\n",
       "0      12/18/2009       2783918982   \n",
       "1      12/18/2015       2058662225   \n",
       "2       5/24/2007        963420425   \n",
       "3       11/6/2015        879620923   \n",
       "4       7/20/2012       1084439099   \n",
       "...           ...              ...   \n",
       "4336     1/1/2004              900   \n",
       "4337    9/29/2015                0   \n",
       "4338    2/15/2013            10443   \n",
       "4339    9/29/2015                0   \n",
       "4340     8/5/2005           181041   \n",
       "\n",
       "                                            movie_title  \n",
       "0                                               Avatar   \n",
       "1     Star Wars: Episode VII - The Force Awakens    ...  \n",
       "2             Pirates of the Caribbean: At World's End   \n",
       "3                                              Spectre   \n",
       "4                                The Dark Knight Rises   \n",
       "...                                                 ...  \n",
       "4336                                   The Mongol King   \n",
       "4337                           Signed Sealed Delivered   \n",
       "4338                                  Shanghai Calling   \n",
       "4339                              A Plague So Pleasant   \n",
       "4340                                 My Date with Drew   \n",
       "\n",
       "[4341 rows x 8 columns]"
      ]
     },
     "execution_count": 33,
     "metadata": {},
     "output_type": "execute_result"
    }
   ],
   "source": [
    "pd.read_csv('../datasets/thenumbers.csv')"
   ]
  },
  {
   "cell_type": "code",
   "execution_count": 34,
   "metadata": {},
   "outputs": [],
   "source": [
    "financials = pd.read_csv('../datasets/thenumbers.csv')"
   ]
  },
  {
   "cell_type": "code",
   "execution_count": 35,
   "metadata": {},
   "outputs": [],
   "source": [
    "financials = financials[['movie_title','production_budget','worldwide_gross']]"
   ]
  },
  {
   "cell_type": "code",
   "execution_count": 36,
   "metadata": {},
   "outputs": [],
   "source": [
    "gross_opening = pd.read_csv('../datasets/opening_df.csv')"
   ]
  },
  {
   "cell_type": "code",
   "execution_count": 37,
   "metadata": {},
   "outputs": [
    {
     "data": {
      "text/plain": [
       "(4341, 3)"
      ]
     },
     "execution_count": 37,
     "metadata": {},
     "output_type": "execute_result"
    }
   ],
   "source": [
    "financials.shape"
   ]
  },
  {
   "cell_type": "code",
   "execution_count": 38,
   "metadata": {},
   "outputs": [
    {
     "data": {
      "text/plain": [
       "(5043, 19)"
      ]
     },
     "execution_count": 38,
     "metadata": {},
     "output_type": "execute_result"
    }
   ],
   "source": [
    "movies.shape"
   ]
  },
  {
   "cell_type": "code",
   "execution_count": 39,
   "metadata": {},
   "outputs": [
    {
     "data": {
      "text/plain": [
       "0                                                 Avatar \n",
       "1               Pirates of the Caribbean: At World's End \n",
       "2                                                Spectre \n",
       "3                                  The Dark Knight Rises \n",
       "4       Star Wars: Episode VII - The Force Awakens    ...\n",
       "                              ...                        \n",
       "5038                             Signed Sealed Delivered \n",
       "5039                           The Following             \n",
       "5040                                A Plague So Pleasant \n",
       "5041                                    Shanghai Calling \n",
       "5042                                   My Date with Drew \n",
       "Name: movie_title, Length: 5043, dtype: object"
      ]
     },
     "execution_count": 39,
     "metadata": {},
     "output_type": "execute_result"
    }
   ],
   "source": [
    "movies['movie_title']"
   ]
  },
  {
   "cell_type": "code",
   "execution_count": 40,
   "metadata": {},
   "outputs": [
    {
     "data": {
      "text/html": [
       "<div>\n",
       "<style scoped>\n",
       "    .dataframe tbody tr th:only-of-type {\n",
       "        vertical-align: middle;\n",
       "    }\n",
       "\n",
       "    .dataframe tbody tr th {\n",
       "        vertical-align: top;\n",
       "    }\n",
       "\n",
       "    .dataframe thead th {\n",
       "        text-align: right;\n",
       "    }\n",
       "</style>\n",
       "<table border=\"1\" class=\"dataframe\">\n",
       "  <thead>\n",
       "    <tr style=\"text-align: right;\">\n",
       "      <th></th>\n",
       "      <th>title_year</th>\n",
       "      <th>aspect_ratio</th>\n",
       "      <th>duration</th>\n",
       "      <th>duration.1</th>\n",
       "      <th>budget</th>\n",
       "      <th>imdb_score</th>\n",
       "      <th>gross</th>\n",
       "    </tr>\n",
       "  </thead>\n",
       "  <tbody>\n",
       "    <tr>\n",
       "      <th>0</th>\n",
       "      <td>2009.0</td>\n",
       "      <td>1.78</td>\n",
       "      <td>178.0</td>\n",
       "      <td>178.0</td>\n",
       "      <td>237000000.0</td>\n",
       "      <td>7.9</td>\n",
       "      <td>760505847.0</td>\n",
       "    </tr>\n",
       "    <tr>\n",
       "      <th>1</th>\n",
       "      <td>2007.0</td>\n",
       "      <td>2.35</td>\n",
       "      <td>169.0</td>\n",
       "      <td>169.0</td>\n",
       "      <td>300000000.0</td>\n",
       "      <td>7.1</td>\n",
       "      <td>309404152.0</td>\n",
       "    </tr>\n",
       "    <tr>\n",
       "      <th>2</th>\n",
       "      <td>2015.0</td>\n",
       "      <td>2.35</td>\n",
       "      <td>148.0</td>\n",
       "      <td>148.0</td>\n",
       "      <td>245000000.0</td>\n",
       "      <td>6.8</td>\n",
       "      <td>200074175.0</td>\n",
       "    </tr>\n",
       "    <tr>\n",
       "      <th>3</th>\n",
       "      <td>2012.0</td>\n",
       "      <td>2.35</td>\n",
       "      <td>164.0</td>\n",
       "      <td>164.0</td>\n",
       "      <td>250000000.0</td>\n",
       "      <td>8.5</td>\n",
       "      <td>448130642.0</td>\n",
       "    </tr>\n",
       "    <tr>\n",
       "      <th>4</th>\n",
       "      <td>NaN</td>\n",
       "      <td>NaN</td>\n",
       "      <td>NaN</td>\n",
       "      <td>NaN</td>\n",
       "      <td>NaN</td>\n",
       "      <td>7.1</td>\n",
       "      <td>NaN</td>\n",
       "    </tr>\n",
       "    <tr>\n",
       "      <th>...</th>\n",
       "      <td>...</td>\n",
       "      <td>...</td>\n",
       "      <td>...</td>\n",
       "      <td>...</td>\n",
       "      <td>...</td>\n",
       "      <td>...</td>\n",
       "      <td>...</td>\n",
       "    </tr>\n",
       "    <tr>\n",
       "      <th>5038</th>\n",
       "      <td>2013.0</td>\n",
       "      <td>NaN</td>\n",
       "      <td>87.0</td>\n",
       "      <td>87.0</td>\n",
       "      <td>NaN</td>\n",
       "      <td>7.7</td>\n",
       "      <td>NaN</td>\n",
       "    </tr>\n",
       "    <tr>\n",
       "      <th>5039</th>\n",
       "      <td>NaN</td>\n",
       "      <td>16.00</td>\n",
       "      <td>43.0</td>\n",
       "      <td>43.0</td>\n",
       "      <td>NaN</td>\n",
       "      <td>7.5</td>\n",
       "      <td>NaN</td>\n",
       "    </tr>\n",
       "    <tr>\n",
       "      <th>5040</th>\n",
       "      <td>2013.0</td>\n",
       "      <td>NaN</td>\n",
       "      <td>76.0</td>\n",
       "      <td>76.0</td>\n",
       "      <td>1400.0</td>\n",
       "      <td>6.3</td>\n",
       "      <td>NaN</td>\n",
       "    </tr>\n",
       "    <tr>\n",
       "      <th>5041</th>\n",
       "      <td>2012.0</td>\n",
       "      <td>2.35</td>\n",
       "      <td>100.0</td>\n",
       "      <td>100.0</td>\n",
       "      <td>NaN</td>\n",
       "      <td>6.3</td>\n",
       "      <td>10443.0</td>\n",
       "    </tr>\n",
       "    <tr>\n",
       "      <th>5042</th>\n",
       "      <td>2004.0</td>\n",
       "      <td>1.85</td>\n",
       "      <td>90.0</td>\n",
       "      <td>90.0</td>\n",
       "      <td>1100.0</td>\n",
       "      <td>6.6</td>\n",
       "      <td>85222.0</td>\n",
       "    </tr>\n",
       "  </tbody>\n",
       "</table>\n",
       "<p>5043 rows × 7 columns</p>\n",
       "</div>"
      ],
      "text/plain": [
       "      title_year  aspect_ratio  duration  duration.1       budget  imdb_score  \\\n",
       "0         2009.0          1.78     178.0       178.0  237000000.0         7.9   \n",
       "1         2007.0          2.35     169.0       169.0  300000000.0         7.1   \n",
       "2         2015.0          2.35     148.0       148.0  245000000.0         6.8   \n",
       "3         2012.0          2.35     164.0       164.0  250000000.0         8.5   \n",
       "4            NaN           NaN       NaN         NaN          NaN         7.1   \n",
       "...          ...           ...       ...         ...          ...         ...   \n",
       "5038      2013.0           NaN      87.0        87.0          NaN         7.7   \n",
       "5039         NaN         16.00      43.0        43.0          NaN         7.5   \n",
       "5040      2013.0           NaN      76.0        76.0       1400.0         6.3   \n",
       "5041      2012.0          2.35     100.0       100.0          NaN         6.3   \n",
       "5042      2004.0          1.85      90.0        90.0       1100.0         6.6   \n",
       "\n",
       "            gross  \n",
       "0     760505847.0  \n",
       "1     309404152.0  \n",
       "2     200074175.0  \n",
       "3     448130642.0  \n",
       "4             NaN  \n",
       "...           ...  \n",
       "5038          NaN  \n",
       "5039          NaN  \n",
       "5040          NaN  \n",
       "5041      10443.0  \n",
       "5042      85222.0  \n",
       "\n",
       "[5043 rows x 7 columns]"
      ]
     },
     "execution_count": 40,
     "metadata": {},
     "output_type": "execute_result"
    }
   ],
   "source": [
    "movies_num"
   ]
  },
  {
   "cell_type": "code",
   "execution_count": 41,
   "metadata": {},
   "outputs": [],
   "source": [
    "movies_num = pd.concat([movies_num, movies['movie_title']],axis=1)"
   ]
  },
  {
   "cell_type": "code",
   "execution_count": 42,
   "metadata": {},
   "outputs": [],
   "source": [
    "gross_opening = gross_opening.drop('Unnamed: 0',axis=1)"
   ]
  },
  {
   "cell_type": "code",
   "execution_count": 43,
   "metadata": {},
   "outputs": [],
   "source": [
    "movies_v2 = pd.merge(financials,movies_num,on='movie_title',how='left')"
   ]
  },
  {
   "cell_type": "code",
   "execution_count": 44,
   "metadata": {},
   "outputs": [],
   "source": [
    "movies_v2 = pd.merge(movies_v2,gross_opening,on='movie_title',how='left')"
   ]
  },
  {
   "cell_type": "code",
   "execution_count": 45,
   "metadata": {},
   "outputs": [
    {
     "data": {
      "text/plain": [
       "(4385, 12)"
      ]
     },
     "execution_count": 45,
     "metadata": {},
     "output_type": "execute_result"
    }
   ],
   "source": [
    "movies_v2.shape"
   ]
  },
  {
   "cell_type": "markdown",
   "metadata": {
    "slideshow": {
     "slide_type": "slide"
    }
   },
   "source": [
    "## Ahora solucionaremos el problema de los datos faltantes (nulos o NaN). "
   ]
  },
  {
   "cell_type": "code",
   "execution_count": 46,
   "metadata": {},
   "outputs": [
    {
     "name": "stdout",
     "output_type": "stream",
     "text": [
      "Help on function value_counts in module pandas.core.base:\n",
      "\n",
      "value_counts(self, normalize: 'bool' = False, sort: 'bool' = True, ascending: 'bool' = False, bins=None, dropna: 'bool' = True)\n",
      "    Return a Series containing counts of unique values.\n",
      "    \n",
      "    The resulting object will be in descending order so that the\n",
      "    first element is the most frequently-occurring element.\n",
      "    Excludes NA values by default.\n",
      "    \n",
      "    Parameters\n",
      "    ----------\n",
      "    normalize : bool, default False\n",
      "        If True then the object returned will contain the relative\n",
      "        frequencies of the unique values.\n",
      "    sort : bool, default True\n",
      "        Sort by frequencies.\n",
      "    ascending : bool, default False\n",
      "        Sort in ascending order.\n",
      "    bins : int, optional\n",
      "        Rather than count values, group them into half-open bins,\n",
      "        a convenience for ``pd.cut``, only works with numeric data.\n",
      "    dropna : bool, default True\n",
      "        Don't include counts of NaN.\n",
      "    \n",
      "    Returns\n",
      "    -------\n",
      "    Series\n",
      "    \n",
      "    See Also\n",
      "    --------\n",
      "    Series.count: Number of non-NA elements in a Series.\n",
      "    DataFrame.count: Number of non-NA elements in a DataFrame.\n",
      "    DataFrame.value_counts: Equivalent method on DataFrames.\n",
      "    \n",
      "    Examples\n",
      "    --------\n",
      "    >>> index = pd.Index([3, 1, 2, 3, 4, np.nan])\n",
      "    >>> index.value_counts()\n",
      "    3.0    2\n",
      "    1.0    1\n",
      "    2.0    1\n",
      "    4.0    1\n",
      "    dtype: int64\n",
      "    \n",
      "    With `normalize` set to `True`, returns the relative frequency by\n",
      "    dividing all values by the sum of values.\n",
      "    \n",
      "    >>> s = pd.Series([3, 1, 2, 3, 4, np.nan])\n",
      "    >>> s.value_counts(normalize=True)\n",
      "    3.0    0.4\n",
      "    1.0    0.2\n",
      "    2.0    0.2\n",
      "    4.0    0.2\n",
      "    dtype: float64\n",
      "    \n",
      "    **bins**\n",
      "    \n",
      "    Bins can be useful for going from a continuous variable to a\n",
      "    categorical variable; instead of counting unique\n",
      "    apparitions of values, divide the index in the specified\n",
      "    number of half-open bins.\n",
      "    \n",
      "    >>> s.value_counts(bins=3)\n",
      "    (0.996, 2.0]    2\n",
      "    (2.0, 3.0]      2\n",
      "    (3.0, 4.0]      1\n",
      "    dtype: int64\n",
      "    \n",
      "    **dropna**\n",
      "    \n",
      "    With `dropna` set to `False` we can also see NaN index values.\n",
      "    \n",
      "    >>> s.value_counts(dropna=False)\n",
      "    3.0    2\n",
      "    1.0    1\n",
      "    2.0    1\n",
      "    4.0    1\n",
      "    NaN    1\n",
      "    dtype: int64\n",
      "\n"
     ]
    }
   ],
   "source": [
    "help(pd.Series.value_counts)"
   ]
  },
  {
   "cell_type": "code",
   "execution_count": 47,
   "metadata": {},
   "outputs": [
    {
     "data": {
      "text/html": [
       "<div>\n",
       "<style scoped>\n",
       "    .dataframe tbody tr th:only-of-type {\n",
       "        vertical-align: middle;\n",
       "    }\n",
       "\n",
       "    .dataframe tbody tr th {\n",
       "        vertical-align: top;\n",
       "    }\n",
       "\n",
       "    .dataframe thead th {\n",
       "        text-align: right;\n",
       "    }\n",
       "</style>\n",
       "<table border=\"1\" class=\"dataframe\">\n",
       "  <thead>\n",
       "    <tr style=\"text-align: right;\">\n",
       "      <th></th>\n",
       "      <th>movie_title</th>\n",
       "      <th>production_budget</th>\n",
       "      <th>worldwide_gross</th>\n",
       "      <th>title_year</th>\n",
       "      <th>aspect_ratio</th>\n",
       "      <th>duration</th>\n",
       "      <th>duration.1</th>\n",
       "      <th>budget</th>\n",
       "      <th>imdb_score</th>\n",
       "      <th>gross</th>\n",
       "      <th>opening_gross</th>\n",
       "      <th>screens</th>\n",
       "    </tr>\n",
       "  </thead>\n",
       "  <tbody>\n",
       "    <tr>\n",
       "      <th>False</th>\n",
       "      <td>NaN</td>\n",
       "      <td>NaN</td>\n",
       "      <td>NaN</td>\n",
       "      <td>27</td>\n",
       "      <td>274</td>\n",
       "      <td>13</td>\n",
       "      <td>13</td>\n",
       "      <td>335</td>\n",
       "      <td>NaN</td>\n",
       "      <td>671</td>\n",
       "      <td>2106</td>\n",
       "      <td>2164</td>\n",
       "    </tr>\n",
       "    <tr>\n",
       "      <th>True</th>\n",
       "      <td>4385.0</td>\n",
       "      <td>4385.0</td>\n",
       "      <td>4385.0</td>\n",
       "      <td>4358</td>\n",
       "      <td>4111</td>\n",
       "      <td>4372</td>\n",
       "      <td>4372</td>\n",
       "      <td>4050</td>\n",
       "      <td>4385.0</td>\n",
       "      <td>3714</td>\n",
       "      <td>2279</td>\n",
       "      <td>2221</td>\n",
       "    </tr>\n",
       "  </tbody>\n",
       "</table>\n",
       "</div>"
      ],
      "text/plain": [
       "       movie_title  production_budget  worldwide_gross  title_year  \\\n",
       "False          NaN                NaN              NaN          27   \n",
       "True        4385.0             4385.0           4385.0        4358   \n",
       "\n",
       "       aspect_ratio  duration  duration.1  budget  imdb_score  gross  \\\n",
       "False           274        13          13     335         NaN    671   \n",
       "True           4111      4372        4372    4050      4385.0   3714   \n",
       "\n",
       "       opening_gross  screens  \n",
       "False           2106     2164  \n",
       "True            2279     2221  "
      ]
     },
     "execution_count": 47,
     "metadata": {},
     "output_type": "execute_result"
    }
   ],
   "source": [
    "movies_v2.notnull().apply(pd.Series.value_counts)"
   ]
  },
  {
   "cell_type": "code",
   "execution_count": 48,
   "metadata": {},
   "outputs": [
    {
     "data": {
      "text/html": [
       "<div>\n",
       "<style scoped>\n",
       "    .dataframe tbody tr th:only-of-type {\n",
       "        vertical-align: middle;\n",
       "    }\n",
       "\n",
       "    .dataframe tbody tr th {\n",
       "        vertical-align: top;\n",
       "    }\n",
       "\n",
       "    .dataframe thead th {\n",
       "        text-align: right;\n",
       "    }\n",
       "</style>\n",
       "<table border=\"1\" class=\"dataframe\">\n",
       "  <thead>\n",
       "    <tr style=\"text-align: right;\">\n",
       "      <th></th>\n",
       "      <th>movie_title</th>\n",
       "      <th>production_budget</th>\n",
       "      <th>worldwide_gross</th>\n",
       "      <th>title_year</th>\n",
       "      <th>aspect_ratio</th>\n",
       "      <th>duration</th>\n",
       "      <th>duration.1</th>\n",
       "      <th>budget</th>\n",
       "      <th>imdb_score</th>\n",
       "      <th>gross</th>\n",
       "      <th>opening_gross</th>\n",
       "      <th>screens</th>\n",
       "    </tr>\n",
       "  </thead>\n",
       "  <tbody>\n",
       "    <tr>\n",
       "      <th>False</th>\n",
       "      <td>NaN</td>\n",
       "      <td>NaN</td>\n",
       "      <td>281</td>\n",
       "      <td>NaN</td>\n",
       "      <td>NaN</td>\n",
       "      <td>NaN</td>\n",
       "      <td>NaN</td>\n",
       "      <td>NaN</td>\n",
       "      <td>NaN</td>\n",
       "      <td>NaN</td>\n",
       "      <td>NaN</td>\n",
       "      <td>NaN</td>\n",
       "    </tr>\n",
       "    <tr>\n",
       "      <th>True</th>\n",
       "      <td>4385.0</td>\n",
       "      <td>4385.0</td>\n",
       "      <td>4104</td>\n",
       "      <td>4385.0</td>\n",
       "      <td>4385.0</td>\n",
       "      <td>4385.0</td>\n",
       "      <td>4385.0</td>\n",
       "      <td>4385.0</td>\n",
       "      <td>4385.0</td>\n",
       "      <td>4385.0</td>\n",
       "      <td>4385.0</td>\n",
       "      <td>4385.0</td>\n",
       "    </tr>\n",
       "  </tbody>\n",
       "</table>\n",
       "</div>"
      ],
      "text/plain": [
       "       movie_title  production_budget  worldwide_gross  title_year  \\\n",
       "False          NaN                NaN              281         NaN   \n",
       "True        4385.0             4385.0             4104      4385.0   \n",
       "\n",
       "       aspect_ratio  duration  duration.1  budget  imdb_score   gross  \\\n",
       "False           NaN       NaN         NaN     NaN         NaN     NaN   \n",
       "True         4385.0    4385.0      4385.0  4385.0      4385.0  4385.0   \n",
       "\n",
       "       opening_gross  screens  \n",
       "False            NaN      NaN  \n",
       "True          4385.0   4385.0  "
      ]
     },
     "execution_count": 48,
     "metadata": {},
     "output_type": "execute_result"
    }
   ],
   "source": [
    "(movies_v2 != 0).apply(pd.Series.value_counts)"
   ]
  },
  {
   "cell_type": "code",
   "execution_count": 49,
   "metadata": {},
   "outputs": [],
   "source": [
    "available = ((movies_v2 != 0) & (movies_v2.notnull()))"
   ]
  },
  {
   "cell_type": "code",
   "execution_count": 50,
   "metadata": {},
   "outputs": [
    {
     "data": {
      "text/plain": [
       "False    2252\n",
       "True     2133\n",
       "dtype: int64"
      ]
     },
     "execution_count": 50,
     "metadata": {},
     "output_type": "execute_result"
    }
   ],
   "source": [
    "available.all(axis=1).value_counts()"
   ]
  },
  {
   "cell_type": "markdown",
   "metadata": {},
   "source": [
    "No podemos entrenar nuestro algoritmo con datos cuya variable objetivo no esta definida o sea nula (valor falso). Eliminemos esas líneas."
   ]
  },
  {
   "cell_type": "code",
   "execution_count": 51,
   "metadata": {},
   "outputs": [],
   "source": [
    "mask = available['worldwide_gross']"
   ]
  },
  {
   "cell_type": "code",
   "execution_count": 52,
   "metadata": {},
   "outputs": [],
   "source": [
    "movies_v2 = movies_v2[mask]"
   ]
  },
  {
   "cell_type": "code",
   "execution_count": 53,
   "metadata": {},
   "outputs": [
    {
     "data": {
      "text/plain": [
       "True    4104\n",
       "Name: worldwide_gross, dtype: int64"
      ]
     },
     "execution_count": 53,
     "metadata": {},
     "output_type": "execute_result"
    }
   ],
   "source": [
    "((movies_v2 != 0) & (movies_v2.notnull())).worldwide_gross.value_counts()"
   ]
  },
  {
   "cell_type": "code",
   "execution_count": 54,
   "metadata": {},
   "outputs": [],
   "source": [
    "movies_v2 = movies_v2.drop('movie_title',axis=1)"
   ]
  },
  {
   "cell_type": "code",
   "execution_count": 55,
   "metadata": {},
   "outputs": [],
   "source": [
    "movies_v2 = movies_v2.drop('duration',axis=1)"
   ]
  },
  {
   "cell_type": "code",
   "execution_count": 56,
   "metadata": {},
   "outputs": [],
   "source": [
    "movies_v2 = movies_v2.drop('gross',axis=1)"
   ]
  },
  {
   "cell_type": "code",
   "execution_count": 57,
   "metadata": {},
   "outputs": [
    {
     "data": {
      "text/html": [
       "<div>\n",
       "<style scoped>\n",
       "    .dataframe tbody tr th:only-of-type {\n",
       "        vertical-align: middle;\n",
       "    }\n",
       "\n",
       "    .dataframe tbody tr th {\n",
       "        vertical-align: top;\n",
       "    }\n",
       "\n",
       "    .dataframe thead th {\n",
       "        text-align: right;\n",
       "    }\n",
       "</style>\n",
       "<table border=\"1\" class=\"dataframe\">\n",
       "  <thead>\n",
       "    <tr style=\"text-align: right;\">\n",
       "      <th></th>\n",
       "      <th>production_budget</th>\n",
       "      <th>worldwide_gross</th>\n",
       "      <th>title_year</th>\n",
       "      <th>aspect_ratio</th>\n",
       "      <th>duration.1</th>\n",
       "      <th>budget</th>\n",
       "      <th>imdb_score</th>\n",
       "      <th>opening_gross</th>\n",
       "      <th>screens</th>\n",
       "    </tr>\n",
       "  </thead>\n",
       "  <tbody>\n",
       "    <tr>\n",
       "      <th>0</th>\n",
       "      <td>425000000</td>\n",
       "      <td>2783918982</td>\n",
       "      <td>2009.0</td>\n",
       "      <td>1.78</td>\n",
       "      <td>178.0</td>\n",
       "      <td>237000000.0</td>\n",
       "      <td>7.9</td>\n",
       "      <td>77025481.0</td>\n",
       "      <td>3452.0</td>\n",
       "    </tr>\n",
       "    <tr>\n",
       "      <th>1</th>\n",
       "      <td>306000000</td>\n",
       "      <td>2058662225</td>\n",
       "      <td>NaN</td>\n",
       "      <td>NaN</td>\n",
       "      <td>NaN</td>\n",
       "      <td>NaN</td>\n",
       "      <td>7.1</td>\n",
       "      <td>NaN</td>\n",
       "      <td>NaN</td>\n",
       "    </tr>\n",
       "    <tr>\n",
       "      <th>2</th>\n",
       "      <td>300000000</td>\n",
       "      <td>963420425</td>\n",
       "      <td>2007.0</td>\n",
       "      <td>2.35</td>\n",
       "      <td>169.0</td>\n",
       "      <td>300000000.0</td>\n",
       "      <td>7.1</td>\n",
       "      <td>139802190.0</td>\n",
       "      <td>4362.0</td>\n",
       "    </tr>\n",
       "    <tr>\n",
       "      <th>3</th>\n",
       "      <td>300000000</td>\n",
       "      <td>879620923</td>\n",
       "      <td>2015.0</td>\n",
       "      <td>2.35</td>\n",
       "      <td>148.0</td>\n",
       "      <td>245000000.0</td>\n",
       "      <td>6.8</td>\n",
       "      <td>70403148.0</td>\n",
       "      <td>3929.0</td>\n",
       "    </tr>\n",
       "    <tr>\n",
       "      <th>4</th>\n",
       "      <td>275000000</td>\n",
       "      <td>1084439099</td>\n",
       "      <td>2012.0</td>\n",
       "      <td>2.35</td>\n",
       "      <td>164.0</td>\n",
       "      <td>250000000.0</td>\n",
       "      <td>8.5</td>\n",
       "      <td>160887295.0</td>\n",
       "      <td>4404.0</td>\n",
       "    </tr>\n",
       "  </tbody>\n",
       "</table>\n",
       "</div>"
      ],
      "text/plain": [
       "   production_budget  worldwide_gross  title_year  aspect_ratio  duration.1  \\\n",
       "0          425000000       2783918982      2009.0          1.78       178.0   \n",
       "1          306000000       2058662225         NaN           NaN         NaN   \n",
       "2          300000000        963420425      2007.0          2.35       169.0   \n",
       "3          300000000        879620923      2015.0          2.35       148.0   \n",
       "4          275000000       1084439099      2012.0          2.35       164.0   \n",
       "\n",
       "        budget  imdb_score  opening_gross  screens  \n",
       "0  237000000.0         7.9     77025481.0   3452.0  \n",
       "1          NaN         7.1            NaN      NaN  \n",
       "2  300000000.0         7.1    139802190.0   4362.0  \n",
       "3  245000000.0         6.8     70403148.0   3929.0  \n",
       "4  250000000.0         8.5    160887295.0   4404.0  "
      ]
     },
     "execution_count": 57,
     "metadata": {},
     "output_type": "execute_result"
    }
   ],
   "source": [
    "movies_v2.head()"
   ]
  },
  {
   "cell_type": "code",
   "execution_count": 58,
   "metadata": {},
   "outputs": [
    {
     "name": "stderr",
     "output_type": "stream",
     "text": [
      "C:\\Users\\EQUIPO\\AppData\\Local\\Temp\\ipykernel_7008\\2334866770.py:1: UserWarning: Boolean Series key will be reindexed to match DataFrame index.\n",
      "  movies_v2 = movies_v2[available.screens]\n"
     ]
    }
   ],
   "source": [
    "movies_v2 = movies_v2[available.screens]"
   ]
  },
  {
   "cell_type": "code",
   "execution_count": 59,
   "metadata": {},
   "outputs": [
    {
     "data": {
      "text/plain": [
       "2221"
      ]
     },
     "execution_count": 59,
     "metadata": {},
     "output_type": "execute_result"
    }
   ],
   "source": [
    "len(movies_v2)"
   ]
  },
  {
   "cell_type": "code",
   "execution_count": 60,
   "metadata": {},
   "outputs": [],
   "source": [
    "from sklearn.impute import SimpleImputer\n",
    "imputer = SimpleImputer(missing_values=np.nan, strategy='mean')"
   ]
  },
  {
   "cell_type": "code",
   "execution_count": 61,
   "metadata": {
    "scrolled": true
   },
   "outputs": [
    {
     "data": {
      "text/html": [
       "<div>\n",
       "<style scoped>\n",
       "    .dataframe tbody tr th:only-of-type {\n",
       "        vertical-align: middle;\n",
       "    }\n",
       "\n",
       "    .dataframe tbody tr th {\n",
       "        vertical-align: top;\n",
       "    }\n",
       "\n",
       "    .dataframe thead th {\n",
       "        text-align: right;\n",
       "    }\n",
       "</style>\n",
       "<table border=\"1\" class=\"dataframe\">\n",
       "  <thead>\n",
       "    <tr style=\"text-align: right;\">\n",
       "      <th></th>\n",
       "      <th>production_budget</th>\n",
       "      <th>worldwide_gross</th>\n",
       "      <th>title_year</th>\n",
       "      <th>aspect_ratio</th>\n",
       "      <th>duration.1</th>\n",
       "      <th>budget</th>\n",
       "      <th>imdb_score</th>\n",
       "      <th>opening_gross</th>\n",
       "      <th>screens</th>\n",
       "    </tr>\n",
       "  </thead>\n",
       "  <tbody>\n",
       "    <tr>\n",
       "      <th>0</th>\n",
       "      <td>425000000.0</td>\n",
       "      <td>2.783919e+09</td>\n",
       "      <td>2009.0</td>\n",
       "      <td>1.78</td>\n",
       "      <td>178.0</td>\n",
       "      <td>237000000.0</td>\n",
       "      <td>7.9</td>\n",
       "      <td>77025481.0</td>\n",
       "      <td>3452.0</td>\n",
       "    </tr>\n",
       "    <tr>\n",
       "      <th>2</th>\n",
       "      <td>300000000.0</td>\n",
       "      <td>9.634204e+08</td>\n",
       "      <td>2007.0</td>\n",
       "      <td>2.35</td>\n",
       "      <td>169.0</td>\n",
       "      <td>300000000.0</td>\n",
       "      <td>7.1</td>\n",
       "      <td>139802190.0</td>\n",
       "      <td>4362.0</td>\n",
       "    </tr>\n",
       "    <tr>\n",
       "      <th>3</th>\n",
       "      <td>300000000.0</td>\n",
       "      <td>8.796209e+08</td>\n",
       "      <td>2015.0</td>\n",
       "      <td>2.35</td>\n",
       "      <td>148.0</td>\n",
       "      <td>245000000.0</td>\n",
       "      <td>6.8</td>\n",
       "      <td>70403148.0</td>\n",
       "      <td>3929.0</td>\n",
       "    </tr>\n",
       "    <tr>\n",
       "      <th>4</th>\n",
       "      <td>275000000.0</td>\n",
       "      <td>1.084439e+09</td>\n",
       "      <td>2012.0</td>\n",
       "      <td>2.35</td>\n",
       "      <td>164.0</td>\n",
       "      <td>250000000.0</td>\n",
       "      <td>8.5</td>\n",
       "      <td>160887295.0</td>\n",
       "      <td>4404.0</td>\n",
       "    </tr>\n",
       "    <tr>\n",
       "      <th>5</th>\n",
       "      <td>275000000.0</td>\n",
       "      <td>2.600021e+08</td>\n",
       "      <td>2013.0</td>\n",
       "      <td>2.35</td>\n",
       "      <td>150.0</td>\n",
       "      <td>215000000.0</td>\n",
       "      <td>6.5</td>\n",
       "      <td>29210849.0</td>\n",
       "      <td>3904.0</td>\n",
       "    </tr>\n",
       "  </tbody>\n",
       "</table>\n",
       "</div>"
      ],
      "text/plain": [
       "   production_budget  worldwide_gross  title_year  aspect_ratio  duration.1  \\\n",
       "0        425000000.0     2.783919e+09      2009.0          1.78       178.0   \n",
       "2        300000000.0     9.634204e+08      2007.0          2.35       169.0   \n",
       "3        300000000.0     8.796209e+08      2015.0          2.35       148.0   \n",
       "4        275000000.0     1.084439e+09      2012.0          2.35       164.0   \n",
       "5        275000000.0     2.600021e+08      2013.0          2.35       150.0   \n",
       "\n",
       "        budget  imdb_score  opening_gross  screens  \n",
       "0  237000000.0         7.9     77025481.0   3452.0  \n",
       "2  300000000.0         7.1    139802190.0   4362.0  \n",
       "3  245000000.0         6.8     70403148.0   3929.0  \n",
       "4  250000000.0         8.5    160887295.0   4404.0  \n",
       "5  215000000.0         6.5     29210849.0   3904.0  "
      ]
     },
     "execution_count": 61,
     "metadata": {},
     "output_type": "execute_result"
    }
   ],
   "source": [
    "values = imputer.fit_transform(movies_v2)\n",
    "X = pd.DataFrame(values)\n",
    "X.columns = movies_v2.columns\n",
    "X.index = movies_v2.index\n",
    "X.head()"
   ]
  },
  {
   "cell_type": "code",
   "execution_count": 62,
   "metadata": {},
   "outputs": [
    {
     "data": {
      "text/plain": [
       "2221"
      ]
     },
     "execution_count": 62,
     "metadata": {},
     "output_type": "execute_result"
    }
   ],
   "source": [
    "len(X)"
   ]
  },
  {
   "cell_type": "code",
   "execution_count": 63,
   "metadata": {},
   "outputs": [
    {
     "data": {
      "text/plain": [
       "array([[4.25000000e+08, 2.78391898e+09, 2.00900000e+03, ...,\n",
       "        7.90000000e+00, 7.70254810e+07, 3.45200000e+03],\n",
       "       [3.00000000e+08, 9.63420425e+08, 2.00700000e+03, ...,\n",
       "        7.10000000e+00, 1.39802190e+08, 4.36200000e+03],\n",
       "       [3.00000000e+08, 8.79620923e+08, 2.01500000e+03, ...,\n",
       "        6.80000000e+00, 7.04031480e+07, 3.92900000e+03],\n",
       "       ...,\n",
       "       [1.05000000e+07, 1.41404020e+07, 2.00700000e+03, ...,\n",
       "        6.50000000e+00, 4.71234100e+06, 2.15500000e+03],\n",
       "       [1.01000000e+07, 1.87263000e+07, 2.01000000e+03, ...,\n",
       "        5.30000000e+00, 6.42156000e+05, 8.20000000e+01],\n",
       "       [1.01000000e+07, 1.06655500e+06, 2.00700000e+03, ...,\n",
       "        5.80000000e+00, 6.35000000e+05, 8.57000000e+02]])"
      ]
     },
     "execution_count": 63,
     "metadata": {},
     "output_type": "execute_result"
    }
   ],
   "source": [
    "movies_v2.values"
   ]
  },
  {
   "cell_type": "code",
   "execution_count": 64,
   "metadata": {},
   "outputs": [
    {
     "data": {
      "text/plain": [
       "array([[4.25000000e+08, 2.78391898e+09, 2.00900000e+03, ...,\n",
       "        7.90000000e+00, 7.70254810e+07, 3.45200000e+03],\n",
       "       [3.00000000e+08, 9.63420425e+08, 2.00700000e+03, ...,\n",
       "        7.10000000e+00, 1.39802190e+08, 4.36200000e+03],\n",
       "       [3.00000000e+08, 8.79620923e+08, 2.01500000e+03, ...,\n",
       "        6.80000000e+00, 7.04031480e+07, 3.92900000e+03],\n",
       "       ...,\n",
       "       [1.05000000e+07, 1.41404020e+07, 2.00700000e+03, ...,\n",
       "        6.50000000e+00, 4.71234100e+06, 2.15500000e+03],\n",
       "       [1.01000000e+07, 1.87263000e+07, 2.01000000e+03, ...,\n",
       "        5.30000000e+00, 6.42156000e+05, 8.20000000e+01],\n",
       "       [1.01000000e+07, 1.06655500e+06, 2.00700000e+03, ...,\n",
       "        5.80000000e+00, 6.35000000e+05, 8.57000000e+02]])"
      ]
     },
     "execution_count": 64,
     "metadata": {},
     "output_type": "execute_result"
    }
   ],
   "source": [
    "values"
   ]
  },
  {
   "cell_type": "code",
   "execution_count": 65,
   "metadata": {},
   "outputs": [],
   "source": [
    "X.to_csv('../datasets/X_opening.csv',index=False)"
   ]
  },
  {
   "cell_type": "code",
   "execution_count": 68,
   "metadata": {},
   "outputs": [],
   "source": [
    "X = movies_v2.drop('screens', axis=1)"
   ]
  },
  {
   "cell_type": "code",
   "execution_count": 69,
   "metadata": {},
   "outputs": [
    {
     "data": {
      "text/html": [
       "<div>\n",
       "<style scoped>\n",
       "    .dataframe tbody tr th:only-of-type {\n",
       "        vertical-align: middle;\n",
       "    }\n",
       "\n",
       "    .dataframe tbody tr th {\n",
       "        vertical-align: top;\n",
       "    }\n",
       "\n",
       "    .dataframe thead th {\n",
       "        text-align: right;\n",
       "    }\n",
       "</style>\n",
       "<table border=\"1\" class=\"dataframe\">\n",
       "  <thead>\n",
       "    <tr style=\"text-align: right;\">\n",
       "      <th></th>\n",
       "      <th>production_budget</th>\n",
       "      <th>worldwide_gross</th>\n",
       "      <th>title_year</th>\n",
       "      <th>aspect_ratio</th>\n",
       "      <th>duration.1</th>\n",
       "      <th>budget</th>\n",
       "      <th>imdb_score</th>\n",
       "      <th>screens</th>\n",
       "    </tr>\n",
       "  </thead>\n",
       "  <tbody>\n",
       "    <tr>\n",
       "      <th>0</th>\n",
       "      <td>425000000</td>\n",
       "      <td>2783918982</td>\n",
       "      <td>2009.0</td>\n",
       "      <td>1.78</td>\n",
       "      <td>178.0</td>\n",
       "      <td>237000000.0</td>\n",
       "      <td>7.9</td>\n",
       "      <td>3452.0</td>\n",
       "    </tr>\n",
       "    <tr>\n",
       "      <th>2</th>\n",
       "      <td>300000000</td>\n",
       "      <td>963420425</td>\n",
       "      <td>2007.0</td>\n",
       "      <td>2.35</td>\n",
       "      <td>169.0</td>\n",
       "      <td>300000000.0</td>\n",
       "      <td>7.1</td>\n",
       "      <td>4362.0</td>\n",
       "    </tr>\n",
       "    <tr>\n",
       "      <th>3</th>\n",
       "      <td>300000000</td>\n",
       "      <td>879620923</td>\n",
       "      <td>2015.0</td>\n",
       "      <td>2.35</td>\n",
       "      <td>148.0</td>\n",
       "      <td>245000000.0</td>\n",
       "      <td>6.8</td>\n",
       "      <td>3929.0</td>\n",
       "    </tr>\n",
       "    <tr>\n",
       "      <th>4</th>\n",
       "      <td>275000000</td>\n",
       "      <td>1084439099</td>\n",
       "      <td>2012.0</td>\n",
       "      <td>2.35</td>\n",
       "      <td>164.0</td>\n",
       "      <td>250000000.0</td>\n",
       "      <td>8.5</td>\n",
       "      <td>4404.0</td>\n",
       "    </tr>\n",
       "    <tr>\n",
       "      <th>5</th>\n",
       "      <td>275000000</td>\n",
       "      <td>260002115</td>\n",
       "      <td>2013.0</td>\n",
       "      <td>2.35</td>\n",
       "      <td>150.0</td>\n",
       "      <td>215000000.0</td>\n",
       "      <td>6.5</td>\n",
       "      <td>3904.0</td>\n",
       "    </tr>\n",
       "  </tbody>\n",
       "</table>\n",
       "</div>"
      ],
      "text/plain": [
       "   production_budget  worldwide_gross  title_year  aspect_ratio  duration.1  \\\n",
       "0          425000000       2783918982      2009.0          1.78       178.0   \n",
       "2          300000000        963420425      2007.0          2.35       169.0   \n",
       "3          300000000        879620923      2015.0          2.35       148.0   \n",
       "4          275000000       1084439099      2012.0          2.35       164.0   \n",
       "5          275000000        260002115      2013.0          2.35       150.0   \n",
       "\n",
       "        budget  imdb_score  screens  \n",
       "0  237000000.0         7.9   3452.0  \n",
       "2  300000000.0         7.1   4362.0  \n",
       "3  245000000.0         6.8   3929.0  \n",
       "4  250000000.0         8.5   4404.0  \n",
       "5  215000000.0         6.5   3904.0  "
      ]
     },
     "execution_count": 69,
     "metadata": {},
     "output_type": "execute_result"
    }
   ],
   "source": [
    "X = movies_v2.drop('opening_gross', axis=1)\n",
    "\n",
    "X.head()"
   ]
  },
  {
   "cell_type": "code",
   "execution_count": 86,
   "metadata": {},
   "outputs": [],
   "source": [
    "X.to_csv('../datasets/X.csv',index=False)"
   ]
  },
  {
   "cell_type": "code",
   "execution_count": null,
   "metadata": {},
   "outputs": [],
   "source": []
  }
 ],
 "metadata": {
  "kernelspec": {
   "display_name": "Python 3 (ipykernel)",
   "language": "python",
   "name": "python3"
  },
  "language_info": {
   "codemirror_mode": {
    "name": "ipython",
    "version": 3
   },
   "file_extension": ".py",
   "mimetype": "text/x-python",
   "name": "python",
   "nbconvert_exporter": "python",
   "pygments_lexer": "ipython3",
   "version": "3.9.5"
  }
 },
 "nbformat": 4,
 "nbformat_minor": 2
}
